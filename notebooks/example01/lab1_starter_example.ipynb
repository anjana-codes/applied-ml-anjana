{
 "cells": [
  {
   "cell_type": "markdown",
   "metadata": {},
   "source": [
    "# Lab 1 Example – Auto Prices "
   ]
  },
  {
   "cell_type": "markdown",
   "metadata": {},
   "source": [
    "## 1. Imports"
   ]
  },
  {
   "cell_type": "code",
   "execution_count": 61,
   "metadata": {},
   "outputs": [],
   "source": [
    "import pandas as pd\n",
    "import matplotlib.pyplot as plt\n",
    "import seaborn as sns\n",
    "from sklearn.model_selection import train_test_split\n",
    "from sklearn.linear_model import LinearRegression"
   ]
  },
  {
   "cell_type": "markdown",
   "metadata": {},
   "source": [
    "## 2. Load the dataset\n"
   ]
  },
  {
   "cell_type": "code",
   "execution_count": 62,
   "metadata": {},
   "outputs": [
    {
     "data": {
      "text/html": [
       "<div>\n",
       "<style scoped>\n",
       "    .dataframe tbody tr th:only-of-type {\n",
       "        vertical-align: middle;\n",
       "    }\n",
       "\n",
       "    .dataframe tbody tr th {\n",
       "        vertical-align: top;\n",
       "    }\n",
       "\n",
       "    .dataframe thead th {\n",
       "        text-align: right;\n",
       "    }\n",
       "</style>\n",
       "<table border=\"1\" class=\"dataframe\">\n",
       "  <thead>\n",
       "    <tr style=\"text-align: right;\">\n",
       "      <th></th>\n",
       "      <th>normalized-losses</th>\n",
       "      <th>make</th>\n",
       "      <th>fuel</th>\n",
       "      <th>doors</th>\n",
       "      <th>body</th>\n",
       "      <th>drive</th>\n",
       "      <th>weight</th>\n",
       "      <th>engine-size</th>\n",
       "      <th>bhp</th>\n",
       "      <th>mpg</th>\n",
       "      <th>price</th>\n",
       "    </tr>\n",
       "  </thead>\n",
       "  <tbody>\n",
       "    <tr>\n",
       "      <th>0</th>\n",
       "      <td>NaN</td>\n",
       "      <td>alfa-romero</td>\n",
       "      <td>unleaded</td>\n",
       "      <td>two</td>\n",
       "      <td>convertible</td>\n",
       "      <td>rwd</td>\n",
       "      <td>2548</td>\n",
       "      <td>130</td>\n",
       "      <td>111.0</td>\n",
       "      <td>27</td>\n",
       "      <td>13495.0</td>\n",
       "    </tr>\n",
       "    <tr>\n",
       "      <th>1</th>\n",
       "      <td>NaN</td>\n",
       "      <td>alfa-romero</td>\n",
       "      <td>unleaded</td>\n",
       "      <td>two</td>\n",
       "      <td>convertible</td>\n",
       "      <td>rwd</td>\n",
       "      <td>2548</td>\n",
       "      <td>130</td>\n",
       "      <td>111.0</td>\n",
       "      <td>27</td>\n",
       "      <td>16500.0</td>\n",
       "    </tr>\n",
       "    <tr>\n",
       "      <th>2</th>\n",
       "      <td>NaN</td>\n",
       "      <td>alfa-romero</td>\n",
       "      <td>unleaded</td>\n",
       "      <td>two</td>\n",
       "      <td>hatchback</td>\n",
       "      <td>rwd</td>\n",
       "      <td>2823</td>\n",
       "      <td>152</td>\n",
       "      <td>154.0</td>\n",
       "      <td>26</td>\n",
       "      <td>16500.0</td>\n",
       "    </tr>\n",
       "    <tr>\n",
       "      <th>3</th>\n",
       "      <td>164.0</td>\n",
       "      <td>audi</td>\n",
       "      <td>unleaded</td>\n",
       "      <td>four</td>\n",
       "      <td>saloon</td>\n",
       "      <td>fwd</td>\n",
       "      <td>2337</td>\n",
       "      <td>109</td>\n",
       "      <td>102.0</td>\n",
       "      <td>30</td>\n",
       "      <td>13950.0</td>\n",
       "    </tr>\n",
       "    <tr>\n",
       "      <th>4</th>\n",
       "      <td>164.0</td>\n",
       "      <td>audi</td>\n",
       "      <td>unleaded</td>\n",
       "      <td>four</td>\n",
       "      <td>saloon</td>\n",
       "      <td>4wd</td>\n",
       "      <td>2824</td>\n",
       "      <td>136</td>\n",
       "      <td>115.0</td>\n",
       "      <td>22</td>\n",
       "      <td>17450.0</td>\n",
       "    </tr>\n",
       "  </tbody>\n",
       "</table>\n",
       "</div>"
      ],
      "text/plain": [
       "   normalized-losses         make      fuel doors         body drive  weight  \\\n",
       "0                NaN  alfa-romero  unleaded   two  convertible   rwd    2548   \n",
       "1                NaN  alfa-romero  unleaded   two  convertible   rwd    2548   \n",
       "2                NaN  alfa-romero  unleaded   two    hatchback   rwd    2823   \n",
       "3              164.0         audi  unleaded  four       saloon   fwd    2337   \n",
       "4              164.0         audi  unleaded  four       saloon   4wd    2824   \n",
       "\n",
       "   engine-size    bhp  mpg    price  \n",
       "0          130  111.0   27  13495.0  \n",
       "1          130  111.0   27  16500.0  \n",
       "2          152  154.0   26  16500.0  \n",
       "3          109  102.0   30  13950.0  \n",
       "4          136  115.0   22  17450.0  "
      ]
     },
     "execution_count": 62,
     "metadata": {},
     "output_type": "execute_result"
    }
   ],
   "source": [
    "df = pd.read_csv(\"automobile_price_data3.csv\")\n",
    "df.head()"
   ]
  },
  {
   "cell_type": "markdown",
   "metadata": {},
   "source": [
    "## 3. Explore Data"
   ]
  },
  {
   "cell_type": "code",
   "execution_count": 63,
   "metadata": {},
   "outputs": [
    {
     "name": "stdout",
     "output_type": "stream",
     "text": [
      "Index(['normalized-losses', 'make', 'fuel', 'doors', 'body', 'drive', 'weight',\n",
      "       'engine-size', 'bhp', 'mpg', 'price'],\n",
      "      dtype='object')\n",
      "\n",
      "<class 'pandas.core.frame.DataFrame'>\n",
      "RangeIndex: 205 entries, 0 to 204\n",
      "Data columns (total 11 columns):\n",
      " #   Column             Non-Null Count  Dtype  \n",
      "---  ------             --------------  -----  \n",
      " 0   normalized-losses  164 non-null    float64\n",
      " 1   make               205 non-null    object \n",
      " 2   fuel               205 non-null    object \n",
      " 3   doors              203 non-null    object \n",
      " 4   body               205 non-null    object \n",
      " 5   drive              205 non-null    object \n",
      " 6   weight             205 non-null    int64  \n",
      " 7   engine-size        205 non-null    int64  \n",
      " 8   bhp                203 non-null    float64\n",
      " 9   mpg                205 non-null    int64  \n",
      " 10  price              201 non-null    float64\n",
      "dtypes: float64(3), int64(3), object(5)\n",
      "memory usage: 17.7+ KB\n"
     ]
    },
    {
     "data": {
      "text/html": [
       "<div>\n",
       "<style scoped>\n",
       "    .dataframe tbody tr th:only-of-type {\n",
       "        vertical-align: middle;\n",
       "    }\n",
       "\n",
       "    .dataframe tbody tr th {\n",
       "        vertical-align: top;\n",
       "    }\n",
       "\n",
       "    .dataframe thead th {\n",
       "        text-align: right;\n",
       "    }\n",
       "</style>\n",
       "<table border=\"1\" class=\"dataframe\">\n",
       "  <thead>\n",
       "    <tr style=\"text-align: right;\">\n",
       "      <th></th>\n",
       "      <th>normalized-losses</th>\n",
       "      <th>make</th>\n",
       "      <th>fuel</th>\n",
       "      <th>doors</th>\n",
       "      <th>body</th>\n",
       "      <th>drive</th>\n",
       "      <th>weight</th>\n",
       "      <th>engine-size</th>\n",
       "      <th>bhp</th>\n",
       "      <th>mpg</th>\n",
       "      <th>price</th>\n",
       "    </tr>\n",
       "  </thead>\n",
       "  <tbody>\n",
       "    <tr>\n",
       "      <th>200</th>\n",
       "      <td>95.0</td>\n",
       "      <td>volvo</td>\n",
       "      <td>unleaded</td>\n",
       "      <td>four</td>\n",
       "      <td>saloon</td>\n",
       "      <td>rwd</td>\n",
       "      <td>2952</td>\n",
       "      <td>141</td>\n",
       "      <td>114.0</td>\n",
       "      <td>28</td>\n",
       "      <td>16845.0</td>\n",
       "    </tr>\n",
       "    <tr>\n",
       "      <th>201</th>\n",
       "      <td>95.0</td>\n",
       "      <td>volvo</td>\n",
       "      <td>unleaded</td>\n",
       "      <td>four</td>\n",
       "      <td>saloon</td>\n",
       "      <td>rwd</td>\n",
       "      <td>3049</td>\n",
       "      <td>141</td>\n",
       "      <td>160.0</td>\n",
       "      <td>25</td>\n",
       "      <td>19045.0</td>\n",
       "    </tr>\n",
       "    <tr>\n",
       "      <th>202</th>\n",
       "      <td>95.0</td>\n",
       "      <td>volvo</td>\n",
       "      <td>unleaded</td>\n",
       "      <td>four</td>\n",
       "      <td>saloon</td>\n",
       "      <td>rwd</td>\n",
       "      <td>3012</td>\n",
       "      <td>173</td>\n",
       "      <td>134.0</td>\n",
       "      <td>23</td>\n",
       "      <td>21485.0</td>\n",
       "    </tr>\n",
       "    <tr>\n",
       "      <th>203</th>\n",
       "      <td>95.0</td>\n",
       "      <td>volvo</td>\n",
       "      <td>diesel</td>\n",
       "      <td>four</td>\n",
       "      <td>saloon</td>\n",
       "      <td>rwd</td>\n",
       "      <td>3217</td>\n",
       "      <td>145</td>\n",
       "      <td>106.0</td>\n",
       "      <td>27</td>\n",
       "      <td>22470.0</td>\n",
       "    </tr>\n",
       "    <tr>\n",
       "      <th>204</th>\n",
       "      <td>95.0</td>\n",
       "      <td>volvo</td>\n",
       "      <td>unleaded</td>\n",
       "      <td>four</td>\n",
       "      <td>saloon</td>\n",
       "      <td>rwd</td>\n",
       "      <td>3062</td>\n",
       "      <td>141</td>\n",
       "      <td>114.0</td>\n",
       "      <td>25</td>\n",
       "      <td>22625.0</td>\n",
       "    </tr>\n",
       "  </tbody>\n",
       "</table>\n",
       "</div>"
      ],
      "text/plain": [
       "     normalized-losses   make      fuel doors    body drive  weight  \\\n",
       "200               95.0  volvo  unleaded  four  saloon   rwd    2952   \n",
       "201               95.0  volvo  unleaded  four  saloon   rwd    3049   \n",
       "202               95.0  volvo  unleaded  four  saloon   rwd    3012   \n",
       "203               95.0  volvo    diesel  four  saloon   rwd    3217   \n",
       "204               95.0  volvo  unleaded  four  saloon   rwd    3062   \n",
       "\n",
       "     engine-size    bhp  mpg    price  \n",
       "200          141  114.0   28  16845.0  \n",
       "201          141  160.0   25  19045.0  \n",
       "202          173  134.0   23  21485.0  \n",
       "203          145  106.0   27  22470.0  \n",
       "204          141  114.0   25  22625.0  "
      ]
     },
     "execution_count": 63,
     "metadata": {},
     "output_type": "execute_result"
    }
   ],
   "source": [
    "print(df.keys())\n",
    "print()\n",
    "df.info()\n",
    "df.head(10)\n",
    "df.tail(5)"
   ]
  },
  {
   "cell_type": "markdown",
   "metadata": {},
   "source": [
    "## 4. Visualize Numeric Distributions"
   ]
  },
  {
   "cell_type": "code",
   "execution_count": 64,
   "metadata": {},
   "outputs": [
    {
     "data": {
      "image/png": "[encoded data removed]",
      "text/plain": [
       "<Figure size 1500x1000 with 6 Axes>"
      ]
     },
     "metadata": {},
     "output_type": "display_data"
    }
   ],
   "source": [
    "plt.style.use('default')\n",
    "sns.set_palette(\"husl\")\n",
    "\n",
    "df.hist(bins=30, figsize=(15, 10))\n",
    "plt.tight_layout()\n",
    "plt.show()"
   ]
  },
  {
   "cell_type": "markdown",
   "metadata": {},
   "source": [
    "## 5. Data Cleaning"
   ]
  },
  {
   "cell_type": "code",
   "execution_count": 65,
   "metadata": {},
   "outputs": [
    {
     "name": "stdout",
     "output_type": "stream",
     "text": [
      "<class 'pandas.core.frame.DataFrame'>\n",
      "Index: 197 entries, 0 to 204\n",
      "Data columns (total 10 columns):\n",
      " #   Column       Non-Null Count  Dtype  \n",
      "---  ------       --------------  -----  \n",
      " 0   make         197 non-null    object \n",
      " 1   fuel         197 non-null    object \n",
      " 2   doors        197 non-null    object \n",
      " 3   body         197 non-null    object \n",
      " 4   drive        197 non-null    object \n",
      " 5   weight       197 non-null    int64  \n",
      " 6   engine-size  197 non-null    int64  \n",
      " 7   bhp          197 non-null    float64\n",
      " 8   mpg          197 non-null    int64  \n",
      " 9   price        197 non-null    float64\n",
      "dtypes: float64(2), int64(3), object(5)\n",
      "memory usage: 16.9+ KB\n"
     ]
    }
   ],
   "source": [
    "df.drop(axis='columns', labels='normalized-losses', inplace=True, errors='ignore')\n",
    "df.dropna(axis='index', how='any', inplace=True)\n",
    "df.info()"
   ]
  },
  {
   "cell_type": "code",
   "execution_count": 66,
   "metadata": {},
   "outputs": [],
   "source": [
    "## 6. Split the Data"
   ]
  },
  {
   "cell_type": "code",
   "execution_count": 67,
   "metadata": {},
   "outputs": [
    {
     "name": "stdout",
     "output_type": "stream",
     "text": [
      "157 40\n"
     ]
    }
   ],
   "source": [
    "train_set, test_set = train_test_split(df, test_size=0.2, random_state=123)\n",
    "print(len(train_set), len(test_set))"
   ]
  },
  {
   "cell_type": "code",
   "execution_count": 68,
   "metadata": {},
   "outputs": [],
   "source": [
    "## 7. Define Features and Target"
   ]
  },
  {
   "cell_type": "code",
   "execution_count": 69,
   "metadata": {},
   "outputs": [],
   "source": [
    "X_train = train_set[['weight', 'engine-size', 'bhp', 'mpg']]\n",
    "y_train = train_set['price']\n",
    "\n",
    "X_test = test_set[['weight', 'engine-size', 'bhp', 'mpg']]\n",
    "y_test = test_set['price']"
   ]
  },
  {
   "cell_type": "markdown",
   "metadata": {},
   "source": [
    "## 8. Create and Train Model"
   ]
  },
  {
   "cell_type": "code",
   "execution_count": 70,
   "metadata": {},
   "outputs": [
    {
     "name": "stdout",
     "output_type": "stream",
     "text": [
      "Bias: -17922.52413652654\n",
      "Coefficients: [ 4.58631495 82.32373485 66.79759309 72.85364667]\n",
      "Training Score: 0.8230155353613751\n"
     ]
    }
   ],
   "source": [
    "reg = LinearRegression()\n",
    "reg.fit(X_train, y_train)\n",
    "\n",
    "print(\"Bias:\", reg.intercept_)\n",
    "print(\"Coefficients:\", reg.coef_)\n",
    "print(\"Training Score:\", reg.score(X_train, y_train))"
   ]
  },
  {
   "cell_type": "markdown",
   "metadata": {},
   "source": [
    "## 9. Evaluate Model on Test Set"
   ]
  },
  {
   "cell_type": "code",
   "execution_count": 71,
   "metadata": {},
   "outputs": [
    {
     "name": "stdout",
     "output_type": "stream",
     "text": [
      "Test Score: 0.5528901621626465\n"
     ]
    }
   ],
   "source": [
    "print(\"Test Score:\", reg.score(X_test, y_test))"
   ]
  },
  {
   "cell_type": "markdown",
   "metadata": {},
   "source": [
    "## 10. Interpretation\n",
    "> - A score around **0.55** (55%) indicates moderate predictive power.\n",
    "> - The model explains about half of the variation in `price`.\n",
    "> - Adjusting feature selection or handling missing data differently may improve results.\n",
    "> - Consider scaling features or testing non-linear models later."
   ]
  }
 ],
 "metadata": {
  "kernelspec": {
   "display_name": "applied-ml-anjana",
   "language": "python",
   "name": "python3"
  },
  "language_info": {
   "codemirror_mode": {
    "name": "ipython",
    "version": 3
   },
   "file_extension": ".py",
   "mimetype": "text/x-python",
   "name": "python",
   "nbconvert_exporter": "python",
   "pygments_lexer": "ipython3",
   "version": "3.12.2"
  }
 },
 "nbformat": 4,
 "nbformat_minor": 4
}
